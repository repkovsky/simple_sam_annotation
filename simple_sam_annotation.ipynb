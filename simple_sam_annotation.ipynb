{
  "cells": [
    {
      "cell_type": "markdown",
      "metadata": {
        "id": "Bi-iRPXIRPZL"
      },
      "source": [
        "\n",
        "## Setup"
      ],
      "id": "Bi-iRPXIRPZL"
    },
    {
      "cell_type": "markdown",
      "metadata": {
        "id": "NHk8ymNeTNRg"
      },
      "source": [
        "### Download packages and models"
      ],
      "id": "NHk8ymNeTNRg"
    },
    {
      "cell_type": "code",
      "execution_count": null,
      "metadata": {
        "colab": {
          "base_uri": "https://localhost:8080/"
        },
        "id": "M608Ugtn0Gj8",
        "outputId": "d907fac2-9783-45c6-d0f1-3af9db935be6"
      },
      "outputs": [
        {
          "name": "stdout",
          "output_type": "stream",
          "text": [
            "\u001b[2K     \u001b[90m━━━━━━━━━━━━━━━━━━━━━━━━━━━━━━━━━━━━━━━━\u001b[0m \u001b[32m511.6/511.6 kB\u001b[0m \u001b[31m7.8 MB/s\u001b[0m eta \u001b[36m0:00:00\u001b[0m\n",
            "\u001b[2K     \u001b[90m━━━━━━━━━━━━━━━━━━━━━━━━━━━━━━━━━━━━━━━━\u001b[0m \u001b[32m1.6/1.6 MB\u001b[0m \u001b[31m53.5 MB/s\u001b[0m eta \u001b[36m0:00:00\u001b[0m\n",
            "\u001b[?25h  Preparing metadata (setup.py) ... \u001b[?25l\u001b[?25hdone\n",
            "  Building wheel for segment-anything (setup.py) ... \u001b[?25l\u001b[?25hdone\n"
          ]
        }
      ],
      "source": [
        "!pip install ipympl --quiet\n",
        "!pip install git+https://github.com/facebookresearch/segment-anything.git --quiet\n",
        "\n",
        "!wget -q https://dl.fbaipublicfiles.com/segment_anything/sam_vit_h_4b8939.pth\n",
        "!wget -q https://dl.fbaipublicfiles.com/segment_anything/sam_vit_b_01ec64.pth\n",
        "!wget -q https://upload.wikimedia.org/wikipedia/commons/thumb/b/b6/Felis_catus-cat_on_snow.jpg/320px-Felis_catus-cat_on_snow.jpg -O \"cat.jpg\""
      ],
      "id": "M608Ugtn0Gj8"
    },
    {
      "cell_type": "markdown",
      "metadata": {
        "id": "1yBlXXEHM1tT"
      },
      "source": [
        "### SAM initialization"
      ],
      "id": "1yBlXXEHM1tT"
    },
    {
      "cell_type": "code",
      "execution_count": null,
      "metadata": {
        "cellView": "form",
        "id": "45c224ad-72bf-40b4-9f04-ff1dfddb6d2d"
      },
      "outputs": [],
      "source": [
        "from segment_anything import sam_model_registry, SamAutomaticMaskGenerator, SamPredictor\n",
        "\n",
        "device = 'cuda' # @param [\"cuda\", \"cpu\"]\n",
        "model_type = \"vit_b\" # @param [\"vit_b\", \"vit_h\"]\n",
        "\n",
        "sam_checkpoint = {\"vit_b\": \"sam_vit_b_01ec64.pth\",\n",
        "                  \"vit_h\": \"sam_vit_h_4b8939.pth\"}[model_type]\n",
        "\n",
        "sam = sam_model_registry[model_type](checkpoint=sam_checkpoint)\n",
        "sam.to(device=device)\n",
        "\n",
        "sam_predictor = SamPredictor(sam)\n",
        "sam_mask_generator = SamAutomaticMaskGenerator(sam)"
      ],
      "id": "45c224ad-72bf-40b4-9f04-ff1dfddb6d2d"
    },
    {
      "cell_type": "markdown",
      "metadata": {
        "id": "dU6xoqZDM-x7"
      },
      "source": [
        "### Utils"
      ],
      "id": "dU6xoqZDM-x7"
    },
    {
      "cell_type": "code",
      "execution_count": null,
      "metadata": {
        "id": "eb6e6340-5bd4-4820-9839-35825f31c437"
      },
      "outputs": [],
      "source": [
        "import cv2\n",
        "import numpy as np\n",
        "import matplotlib.pyplot as plt\n",
        "\n",
        "def show_mask(mask, ax, random_color=False):\n",
        "    if random_color:\n",
        "        color = np.concatenate([np.random.random(3), np.array([0.6])], axis=0)\n",
        "    else:\n",
        "        color = np.array([30/255, 144/255, 255/255, 0.6])\n",
        "    h, w = mask.shape[-2:]\n",
        "    mask_image = mask.reshape(h, w, 1) * color.reshape(1, 1, -1)\n",
        "    return ax.imshow(mask_image)\n",
        "\n",
        "def show_points(coords, labels, ax):\n",
        "    pos_points = coords[labels==1]\n",
        "    neg_points = coords[labels==0]\n",
        "    ax.scatter(pos_points[:, 0], pos_points[:, 1], color='blue', marker='.')\n",
        "    ax.scatter(neg_points[:, 0], neg_points[:, 1], color='red', marker='.')\n",
        "\n",
        "def float2uint8(x: np.ndarray):\n",
        "    return (x*255).astype(np.uint8)"
      ],
      "id": "eb6e6340-5bd4-4820-9839-35825f31c437"
    },
    {
      "cell_type": "markdown",
      "metadata": {
        "id": "OGTZ61DMRMV8"
      },
      "source": [
        "## Annotation tool\n",
        "\n",
        "* Upload file by dragging it into files area\n",
        "* Input file name to input box and run cell below\n",
        "* Left-click to add mask\n",
        "* Right click to remove area\n",
        "* Segmentation mask is saved as `mask_[original_file_name].png` each time the segmentation changes\n",
        "* Re-run cell to reset"
      ],
      "id": "OGTZ61DMRMV8"
    },
    {
      "cell_type": "code",
      "execution_count": null,
      "metadata": {
        "cellView": "form",
        "colab": {
          "background_save": true
        },
        "id": "Na0iC7G_0O2O"
      },
      "outputs": [],
      "source": [
        "%matplotlib ipympl\n",
        "import matplotlib\n",
        "import matplotlib.pyplot as plt\n",
        "import matplotlib.image as mpimg\n",
        "from matplotlib.backend_bases import MouseButton\n",
        "from google.colab import output\n",
        "\n",
        "output.enable_custom_widget_manager()\n",
        "\n",
        "input_file = \"cat.jpg\" # @param {type:\"string\"}\n",
        "\n",
        "image = cv2.imread(input_file)\n",
        "image = cv2.cvtColor(image, cv2.COLOR_BGR2RGB)\n",
        "\n",
        "sam_predictor.set_image(image)\n",
        "\n",
        "fig = plt.figure(figsize=(12, 10))\n",
        "ax = plt.gca()\n",
        "ax.imshow(image)\n",
        "ax.axis(\"off\")\n",
        "\n",
        "pos_points = []\n",
        "neg_points = []\n",
        "\n",
        "def onclick(event):\n",
        "    ax.cla()\n",
        "    ax.imshow(image)\n",
        "    ax.axis(\"off\")\n",
        "    ix, iy = event.xdata, event.ydata\n",
        "    if event.button == MouseButton.LEFT:\n",
        "        pos_points.append((ix, iy))\n",
        "    elif event.button == MouseButton.RIGHT:\n",
        "        neg_points.append((ix, iy))\n",
        "\n",
        "    input_point = np.array(neg_points + pos_points)\n",
        "    input_label = np.array([0]*len(neg_points) + [1]*len(pos_points))\n",
        "    sam_mask, _, _ = sam_predictor.predict(\n",
        "        point_coords=input_point,\n",
        "        point_labels=input_label,\n",
        "        multimask_output=False\n",
        "    )\n",
        "    show_points(input_point, input_label, ax)\n",
        "    show_mask(sam_mask, ax)\n",
        "    cv2.imwrite(\"mask_\" + input_file, cv2.cvtColor(float2uint8(sam_mask[0,...]), cv2.COLOR_GRAY2BGR))\n",
        "\n",
        "cid = fig.canvas.mpl_connect('button_press_event', onclick)"
      ],
      "id": "Na0iC7G_0O2O"
    }
  ],
  "metadata": {
    "accelerator": "GPU",
    "colab": {
      "collapsed_sections": [
        "NHk8ymNeTNRg",
        "dU6xoqZDM-x7"
      ],
      "provenance": []
    },
    "kernelspec": {
      "display_name": "Python 3",
      "name": "python3"
    },
    "language_info": {
      "name": "python"
    }
  },
  "nbformat": 4,
  "nbformat_minor": 5
}